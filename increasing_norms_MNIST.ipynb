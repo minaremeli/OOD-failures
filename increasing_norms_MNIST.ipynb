{
 "cells": [
  {
   "cell_type": "code",
   "execution_count": 1,
   "metadata": {},
   "outputs": [],
   "source": [
    "from data_utils import load_binary_MNIST\n",
    "from max_margin import fit_max_margin, evaluate_max_margin\n",
    "import numpy as np\n",
    "np.set_printoptions(threshold=np.inf)\n",
    "import matplotlib as mpl\n",
    "import matplotlib.pyplot as plt\n",
    "import torch\n",
    "import torch.nn.functional as F\n",
    "import torch.nn as nn\n",
    "from tqdm import tqdm\n",
    "\n",
    "colors = ['black','#377eb8', '#ff7f00', '#4daf4a',\n",
    "              '#984ea3', '#a65628', '#f781bf',\n",
    "              '#999999', '#e41a1c', '#dede00']\n",
    "markers = [ 'h', '*', '<', 'o', 's', 'v', 'D' ]"
   ]
  },
  {
   "cell_type": "code",
   "execution_count": 2,
   "metadata": {},
   "outputs": [],
   "source": [
    "train_set, test_set = load_binary_MNIST()"
   ]
  },
  {
   "cell_type": "code",
   "execution_count": 5,
   "metadata": {
    "scrolled": true
   },
   "outputs": [
    {
     "name": "stderr",
     "output_type": "stream",
     "text": [
      "\r",
      "  0%|          | 0/8 [00:00<?, ?it/s]"
     ]
    },
    {
     "name": "stdout",
     "output_type": "stream",
     "text": [
      "4\r"
     ]
    },
    {
     "name": "stderr",
     "output_type": "stream",
     "text": [
      "\r",
      " 12%|█▎        | 1/8 [00:23<02:42, 23.16s/it]"
     ]
    },
    {
     "name": "stdout",
     "output_type": "stream",
     "text": [
      "4\r"
     ]
    },
    {
     "name": "stderr",
     "output_type": "stream",
     "text": [
      "\r",
      " 25%|██▌       | 2/8 [01:06<03:30, 35.17s/it]"
     ]
    },
    {
     "name": "stdout",
     "output_type": "stream",
     "text": [
      "4\r"
     ]
    },
    {
     "name": "stderr",
     "output_type": "stream",
     "text": [
      "\r",
      " 38%|███▊      | 3/8 [02:30<04:47, 57.43s/it]"
     ]
    },
    {
     "name": "stdout",
     "output_type": "stream",
     "text": [
      "4\r"
     ]
    },
    {
     "name": "stderr",
     "output_type": "stream",
     "text": [
      "\r",
      " 50%|█████     | 4/8 [05:39<07:16, 109.19s/it]"
     ]
    },
    {
     "name": "stdout",
     "output_type": "stream",
     "text": [
      "4\r"
     ]
    },
    {
     "name": "stderr",
     "output_type": "stream",
     "text": [
      "\r",
      " 62%|██████▎   | 5/8 [12:50<11:16, 225.48s/it]"
     ]
    },
    {
     "name": "stdout",
     "output_type": "stream",
     "text": [
      "4\r"
     ]
    },
    {
     "name": "stderr",
     "output_type": "stream",
     "text": [
      "\r",
      " 75%|███████▌  | 6/8 [27:56<15:13, 456.73s/it]"
     ]
    },
    {
     "name": "stdout",
     "output_type": "stream",
     "text": [
      "4\r"
     ]
    },
    {
     "name": "stderr",
     "output_type": "stream",
     "text": [
      "\r",
      " 88%|████████▊ | 7/8 [1:06:56<17:52, 1072.50s/it]"
     ]
    },
    {
     "name": "stdout",
     "output_type": "stream",
     "text": [
      "4\r"
     ]
    },
    {
     "name": "stderr",
     "output_type": "stream",
     "text": [
      "100%|██████████| 8/8 [2:27:40<00:00, 1107.59s/it]"
     ]
    },
    {
     "name": "stdout",
     "output_type": "stream",
     "text": [
      "5\r"
     ]
    },
    {
     "name": "stderr",
     "output_type": "stream",
     "text": [
      "\n"
     ]
    }
   ],
   "source": [
    "num_datapoints = [50, 100, 200, 400, 800, 1600, 3200, 6400]\n",
    "norms = []\n",
    "\n",
    "for n_data in tqdm(num_datapoints):\n",
    "    norms += [[]]\n",
    "    i = 0\n",
    "    mm_weights, mm_bias = None, None\n",
    "    while(i < 5 or mm_weights is None):\n",
    "        indices = np.random.choice(np.arange(train_set['labels'].shape[0]), n_data, replace=False)\n",
    "        \n",
    "        with torch.no_grad():\n",
    "            W = torch.randn((50000, 28*28))\n",
    "            x, y = train_set['images'][indices], train_set['labels'][indices]\n",
    "            x = x.view(len(indices), -1)\n",
    "            x = F.relu(x @ W.T)\n",
    "\n",
    "        mm_weights, mm_bias = fit_max_margin(x, y, verbose=False)\n",
    "\n",
    "        if mm_weights is not None:\n",
    "            i += 1\n",
    "            print(i, end='\\r')\n",
    "            norms[-1] += [np.linalg.norm(mm_weights)]\n",
    "        else:\n",
    "            print(\"Problem is infeasible with %d samples - resampling train set.\" % n_data)\n",
    "        \n",
    "ys = [np.mean(y) for y in norms]\n",
    "yerrs = [np.std(y) for y in norms] # Error bars"
   ]
  },
  {
   "cell_type": "code",
   "execution_count": 6,
   "metadata": {},
   "outputs": [
    {
     "data": {
      "text/plain": [
       "<Figure size 360x360 with 0 Axes>"
      ]
     },
     "metadata": {},
     "output_type": "display_data"
    },
    {
     "data": {
      "image/png": "[encoded data removed]",
      "text/plain": [
       "<Figure size 432x288 with 1 Axes>"
      ]
     },
     "metadata": {
      "needs_background": "light"
     },
     "output_type": "display_data"
    }
   ],
   "source": [
    "mpl.rc('xtick', labelsize=18)\n",
    "mpl.rc('ytick', labelsize=18)\n",
    "mpl.rcParams['font.family'] ='monospace'\n",
    "plt.figure(figsize=(5,5))\n",
    "fig, ax = plt.subplots()\n",
    "ax.set_xlabel('Training set size',fontsize=24)\n",
    "ax.set_ylabel(r'$\\ell_2$ Norm',fontsize=24)\n",
    "ax.errorbar(x=np.log(num_datapoints),y=ys,yerr= yerrs,marker=markers[1], color=colors[1], \n",
    "            capsize=5,markersize=15)\n",
    "ax.grid()\n",
    "plt.tight_layout()\n",
    "plt.xticks(np.log([100, 400, 1600, 6400]), ['100','400','1600','6400'])\n",
    "plt.savefig(f'plots/mnist_increasing_norms.pdf')"
   ]
  },
  {
   "cell_type": "code",
   "execution_count": 9,
   "metadata": {},
   "outputs": [],
   "source": [
    "np.save('results/mnist_increasing_norms.npy', np.array(norms))"
   ]
  },
  {
   "cell_type": "code",
   "execution_count": null,
   "metadata": {},
   "outputs": [],
   "source": []
  }
 ],
 "metadata": {
  "kernelspec": {
   "display_name": "Python 3 (ipykernel)",
   "language": "python",
   "name": "python3"
  },
  "language_info": {
   "codemirror_mode": {
    "name": "ipython",
    "version": 3
   },
   "file_extension": ".py",
   "mimetype": "text/x-python",
   "name": "python",
   "nbconvert_exporter": "python",
   "pygments_lexer": "ipython3",
   "version": "3.8.5"
  }
 },
 "nbformat": 4,
 "nbformat_minor": 1
}
