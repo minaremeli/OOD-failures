{
 "cells": [
  {
   "cell_type": "code",
   "execution_count": 105,
   "id": "a9736562",
   "metadata": {},
   "outputs": [],
   "source": [
    "from data_utils import load_control_experimental_MNIST, load_test_MNIST\n",
    "from models import MnistNet\n",
    "import torch\n",
    "from tqdm import tqdm\n",
    "import numpy as np\n",
    "from torch.utils.data import TensorDataset, DataLoader\n",
    "\n",
    "import matplotlib as mpl\n",
    "import matplotlib.pyplot as plt\n",
    "\n",
    "colors = ['black','#377eb8', '#ff7f00', '#4daf4a',\n",
    "              '#984ea3', '#a65628', '#f781bf',\n",
    "              '#999999', '#e41a1c', '#dede00']\n",
    "markers = [ 'h', '*', '<', 'o', 's', 'v', 'D' ]"
   ]
  },
  {
   "cell_type": "code",
   "execution_count": 2,
   "id": "a2fefa76",
   "metadata": {},
   "outputs": [],
   "source": [
    "sp_val = 0.1\n",
    "test_spurious_values = [-2.0, -1.5, -1.0, -0.5, 0, 0.5, 1.0, 1.5, 2]\n",
    "rng_state = 42"
   ]
  },
  {
   "cell_type": "code",
   "execution_count": 3,
   "id": "53dbea48",
   "metadata": {},
   "outputs": [],
   "source": [
    "control, experimental = load_control_experimental_MNIST(spurious_value=sp_val, rng_state=rng_state)"
   ]
  },
  {
   "cell_type": "code",
   "execution_count": 71,
   "id": "1cdaf82d",
   "metadata": {},
   "outputs": [],
   "source": [
    "lr = 0.1\n",
    "epochs = 1000 # instead of the original 50"
   ]
  },
  {
   "cell_type": "code",
   "execution_count": 5,
   "id": "05396246",
   "metadata": {},
   "outputs": [],
   "source": [
    "def mean_accuracy(logits, y):\n",
    "    preds = (logits > 0.).float()\n",
    "    return ((preds - y).abs() < 1e-2).float().mean().item()"
   ]
  },
  {
   "cell_type": "code",
   "execution_count": 87,
   "id": "a8ad4179",
   "metadata": {},
   "outputs": [],
   "source": [
    "def fit(model, optim, criterion, train_set, clip=None, epochs=50):\n",
    "    model.train()\n",
    "\n",
    "    for i in tqdm(range(epochs)):\n",
    "        optim.zero_grad()\n",
    "        logits = model(train_set['images'])\n",
    "        loss = criterion(logits, train_set['labels'])\n",
    "        loss.backward()\n",
    "        if clip is not None:\n",
    "            torch.nn.utils.clip_grad_norm_(model.parameters(), max_norm=clip)\n",
    "        optim.step()\n",
    "\n",
    "def eval(model, dataset):\n",
    "    model.eval()\n",
    "    logits = model(dataset['images'])\n",
    "    acc = mean_accuracy(logits, dataset['labels'])\n",
    "    return acc"
   ]
  },
  {
   "cell_type": "code",
   "execution_count": 73,
   "id": "6889f005",
   "metadata": {},
   "outputs": [],
   "source": [
    "def accuracies_on_test(model, spurious_values, spurious_correlation=0.5):\n",
    "    accs = []\n",
    "    for sp_val in spurious_values:\n",
    "        test = load_test_MNIST(spurious_correlation=spurious_correlation, spurious_value=sp_val)\n",
    "        accs.append(eval(model, test))\n",
    "    return accs"
   ]
  },
  {
   "cell_type": "code",
   "execution_count": 88,
   "id": "a6e8e5b3",
   "metadata": {},
   "outputs": [],
   "source": [
    "def train_model_on(data, epochs, weight_decay=0, clip=None, name='model.pt'):\n",
    "    criterion = torch.nn.BCEWithLogitsLoss()\n",
    "    model = MnistNet(n_channels=2)\n",
    "    optim = torch.optim.SGD(params=model.parameters(), lr=lr, weight_decay=weight_decay)\n",
    "    fit(model, optim, criterion, data, clip=clip, epochs=epochs)\n",
    "    # save model just in case\n",
    "    print(\"Save model to 'models/%s'\" % name)\n",
    "    torch.save(model.state_dict(), 'models/%s' % name)\n",
    "    return model"
   ]
  },
  {
   "cell_type": "code",
   "execution_count": 63,
   "id": "84d4ed0c",
   "metadata": {},
   "outputs": [],
   "source": [
    "LOAD_SAVED_MODEL = True"
   ]
  },
  {
   "cell_type": "markdown",
   "id": "1643a0a4",
   "metadata": {},
   "source": [
    "### Model trained on control dataset"
   ]
  },
  {
   "cell_type": "code",
   "execution_count": 64,
   "id": "0fdc2bb8",
   "metadata": {
    "scrolled": true
   },
   "outputs": [],
   "source": [
    "control_accuracies = []\n",
    "for k in range(5):\n",
    "    if LOAD_SAVED_MODEL:\n",
    "        model = MnistNet(n_channels=2)\n",
    "        model.load_state_dict(torch.load('models/control_%d.pt' % k))\n",
    "    else:\n",
    "        model = train_model_on(control, epochs=epochs, name='control_%d.pt' % k)\n",
    "    control_accuracies.append(accuracies_on_test(model, test_spurious_values))"
   ]
  },
  {
   "cell_type": "markdown",
   "id": "e4d8c32f",
   "metadata": {},
   "source": [
    "### Model trained on experimental dataset"
   ]
  },
  {
   "cell_type": "code",
   "execution_count": 65,
   "id": "f2f91d05",
   "metadata": {},
   "outputs": [],
   "source": [
    "exp_accuracies = []\n",
    "for k in range(5):\n",
    "    if LOAD_SAVED_MODEL:\n",
    "        model = MnistNet(n_channels=2)\n",
    "        model.load_state_dict(torch.load('models/experimental_%d.pt' % k))\n",
    "    else:\n",
    "        model = train_model_on(experimental, epochs=epochs, name='experimental_%d.pt' % k)\n",
    "    exp_accuracies.append(accuracies_on_test(model, test_spurious_values))"
   ]
  },
  {
   "cell_type": "markdown",
   "id": "d9ddc2f0",
   "metadata": {},
   "source": [
    "### Plot"
   ]
  },
  {
   "cell_type": "code",
   "execution_count": 66,
   "id": "9c8f832d",
   "metadata": {},
   "outputs": [],
   "source": [
    "control_accuracies = np.array(control_accuracies).transpose()\n",
    "exp_accuracies = np.array(exp_accuracies).transpose()\n",
    "\n",
    "y_con = [np.mean(y) for y in control_accuracies]\n",
    "y_con_std = [np.std(y) for y in control_accuracies]\n",
    "y_exp = [np.mean(y) for y in exp_accuracies]\n",
    "y_exp_std = [np.std(y) for y in exp_accuracies]"
   ]
  },
  {
   "cell_type": "code",
   "execution_count": 67,
   "id": "7a72d9df",
   "metadata": {},
   "outputs": [
    {
     "data": {
      "text/plain": [
       "<Figure size 360x360 with 0 Axes>"
      ]
     },
     "metadata": {},
     "output_type": "display_data"
    },
    {
     "data": {
      "image/png": "[encoded data removed]",
      "text/plain": [
       "<Figure size 432x288 with 1 Axes>"
      ]
     },
     "metadata": {
      "needs_background": "light"
     },
     "output_type": "display_data"
    }
   ],
   "source": [
    "mpl.rc('xtick', labelsize=18)\n",
    "mpl.rc('ytick', labelsize=18)\n",
    "mpl.rcParams['font.family'] ='monospace'\n",
    "plt.figure(figsize=(5,5))\n",
    "fig, ax = plt.subplots()\n",
    "ax.set_xlabel('Spurious feature scale',fontsize=24)\n",
    "ax.set_ylabel(r'Accuracy',fontsize=24)\n",
    "ax.errorbar(x=test_spurious_values, y=y_con, yerr=y_con_std, marker=markers[0], color=colors[0], \n",
    "            capsize=5,markersize=15, label='Control')\n",
    "ax.errorbar(x=test_spurious_values, y=y_exp, yerr=y_exp_std, marker=markers[1], color=colors[1], \n",
    "            capsize=5,markersize=15, label='Experimental')\n",
    "ax.plot([0.1], [0.001], marker='v', color='red', markersize=12)\n",
    "ax.grid()\n",
    "plt.tight_layout()\n",
    "plt.xticks([-2.0, -1.0, 0, 1.0, 2.0], ['-2.0', '-1.0', '0', '1.0', '2.0'])\n",
    "plt.legend()\n",
    "plt.savefig(f'plots/mnist_statistical_skew.pdf')"
   ]
  },
  {
   "cell_type": "code",
   "execution_count": 68,
   "id": "31b3d79f",
   "metadata": {},
   "outputs": [],
   "source": [
    "np.save('results/mnist_statistical_skew_control.npy', control_accuracies)\n",
    "np.save('results/mnist_statistical_skew_experimental.npy', exp_accuracies)"
   ]
  },
  {
   "cell_type": "markdown",
   "id": "ab7cc5af",
   "metadata": {},
   "source": [
    "# With L2 weight decay"
   ]
  },
  {
   "cell_type": "code",
   "execution_count": 75,
   "id": "2a290fe7",
   "metadata": {},
   "outputs": [
    {
     "name": "stderr",
     "output_type": "stream",
     "text": [
      "100%|██████████| 1000/1000 [3:46:28<00:00, 13.59s/it] "
     ]
    },
    {
     "name": "stdout",
     "output_type": "stream",
     "text": [
      "Save model to 'models/experimental_wd_0.pt'\n"
     ]
    },
    {
     "name": "stderr",
     "output_type": "stream",
     "text": [
      "\n"
     ]
    }
   ],
   "source": [
    "model = train_model_on(experimental, epochs=epochs, weight_decay=0.001, name='experimental_wd_%d.pt' % 0)"
   ]
  },
  {
   "cell_type": "code",
   "execution_count": 76,
   "id": "0ea8879e",
   "metadata": {},
   "outputs": [
    {
     "data": {
      "text/plain": [
       "[0.705299973487854,\n",
       " 0.7067000269889832,\n",
       " 0.7024999856948853,\n",
       " 0.6984000205993652,\n",
       " 0.9164000153541565,\n",
       " 0.7152000069618225,\n",
       " 0.7106999754905701,\n",
       " 0.7192000150680542,\n",
       " 0.7110999822616577]"
      ]
     },
     "execution_count": 76,
     "metadata": {},
     "output_type": "execute_result"
    }
   ],
   "source": [
    "accuracies_on_test(model, test_spurious_values, spurious_correlation=0.5)"
   ]
  },
  {
   "cell_type": "code",
   "execution_count": 77,
   "id": "4a8bfe56",
   "metadata": {},
   "outputs": [
    {
     "data": {
      "text/plain": [
       "[0.4805000126361847,\n",
       " 0.4805000126361847,\n",
       " 0.4805000126361847,\n",
       " 0.4805000126361847,\n",
       " 0.9164000153541565,\n",
       " 0.9944000244140625,\n",
       " 0.9944000244140625,\n",
       " 0.9944000244140625,\n",
       " 0.9944000244140625]"
      ]
     },
     "execution_count": 77,
     "metadata": {},
     "output_type": "execute_result"
    }
   ],
   "source": [
    "accuracies_on_test(model, test_spurious_values, spurious_correlation=1)"
   ]
  },
  {
   "cell_type": "code",
   "execution_count": 78,
   "id": "f16b870b",
   "metadata": {},
   "outputs": [
    {
     "data": {
      "text/plain": [
       "[0.921999990940094,\n",
       " 0.921999990940094,\n",
       " 0.921999990940094,\n",
       " 0.921999990940094,\n",
       " 0.9164000153541565,\n",
       " 0.4359000027179718,\n",
       " 0.4359000027179718,\n",
       " 0.4359000027179718,\n",
       " 0.4359000027179718]"
      ]
     },
     "execution_count": 78,
     "metadata": {},
     "output_type": "execute_result"
    }
   ],
   "source": [
    "accuracies_on_test(model, test_spurious_values, spurious_correlation=0)"
   ]
  },
  {
   "cell_type": "code",
   "execution_count": 79,
   "id": "3f0fa2ab",
   "metadata": {},
   "outputs": [
    {
     "name": "stderr",
     "output_type": "stream",
     "text": [
      "100%|██████████| 1000/1000 [3:51:06<00:00, 13.87s/it] "
     ]
    },
    {
     "name": "stdout",
     "output_type": "stream",
     "text": [
      "Save model to 'models/experimental_wd_0.01_0.pt'\n"
     ]
    },
    {
     "name": "stderr",
     "output_type": "stream",
     "text": [
      "\n"
     ]
    }
   ],
   "source": [
    "model2 = train_model_on(experimental, epochs=epochs, weight_decay=0.01, name='experimental_wd_0.01_%d.pt' % 0)"
   ]
  },
  {
   "cell_type": "code",
   "execution_count": 80,
   "id": "4e8283eb",
   "metadata": {},
   "outputs": [
    {
     "data": {
      "text/plain": [
       "[0.6783000230789185,\n",
       " 0.6815999746322632,\n",
       " 0.6732000112533569,\n",
       " 0.6833999752998352,\n",
       " 0.8722000122070312,\n",
       " 0.6970000267028809,\n",
       " 0.6952000260353088,\n",
       " 0.6924999952316284,\n",
       " 0.6958000063896179]"
      ]
     },
     "execution_count": 80,
     "metadata": {},
     "output_type": "execute_result"
    }
   ],
   "source": [
    "accuracies_on_test(model2, test_spurious_values, spurious_correlation=0.5)"
   ]
  },
  {
   "cell_type": "code",
   "execution_count": 83,
   "id": "986a2038",
   "metadata": {
    "scrolled": true
   },
   "outputs": [
    {
     "data": {
      "text/plain": [
       "[0.4812000095844269,\n",
       " 0.4812000095844269,\n",
       " 0.4812000095844269,\n",
       " 0.4812000095844269,\n",
       " 0.8722000122070312,\n",
       " 0.9951000213623047,\n",
       " 0.9951000213623047,\n",
       " 0.9951000213623047,\n",
       " 0.9951000213623047]"
      ]
     },
     "execution_count": 83,
     "metadata": {},
     "output_type": "execute_result"
    }
   ],
   "source": [
    "accuracies_on_test(model2, test_spurious_values, spurious_correlation=1)"
   ]
  },
  {
   "cell_type": "code",
   "execution_count": 84,
   "id": "8b3a6ff3",
   "metadata": {},
   "outputs": [
    {
     "data": {
      "text/plain": [
       "[0.8770999908447266,\n",
       " 0.8770999908447266,\n",
       " 0.8770999908447266,\n",
       " 0.8770999908447266,\n",
       " 0.8722000122070312,\n",
       " 0.39100000262260437,\n",
       " 0.39100000262260437,\n",
       " 0.39100000262260437,\n",
       " 0.39100000262260437]"
      ]
     },
     "execution_count": 84,
     "metadata": {},
     "output_type": "execute_result"
    }
   ],
   "source": [
    "accuracies_on_test(model2, test_spurious_values, spurious_correlation=0)"
   ]
  },
  {
   "cell_type": "code",
   "execution_count": 81,
   "id": "b32e7299",
   "metadata": {},
   "outputs": [
    {
     "name": "stderr",
     "output_type": "stream",
     "text": [
      "100%|██████████| 1000/1000 [3:49:56<00:00, 13.80s/it] "
     ]
    },
    {
     "name": "stdout",
     "output_type": "stream",
     "text": [
      "Save model to 'models/experimental_wd_0.1_0.pt'\n"
     ]
    },
    {
     "name": "stderr",
     "output_type": "stream",
     "text": [
      "\n"
     ]
    }
   ],
   "source": [
    "model3 = train_model_on(experimental, epochs=epochs, weight_decay=0.1, name='experimental_wd_0.1_%d.pt' % 0)"
   ]
  },
  {
   "cell_type": "code",
   "execution_count": 82,
   "id": "55fa438a",
   "metadata": {},
   "outputs": [
    {
     "data": {
      "text/plain": [
       "[0.5331000089645386,\n",
       " 0.5303000211715698,\n",
       " 0.5332000255584717,\n",
       " 0.535099983215332,\n",
       " 0.5817999839782715,\n",
       " 0.5443000197410583,\n",
       " 0.5526999831199646,\n",
       " 0.5482000112533569,\n",
       " 0.5533999800682068]"
      ]
     },
     "execution_count": 82,
     "metadata": {},
     "output_type": "execute_result"
    }
   ],
   "source": [
    "accuracies_on_test(model3, test_spurious_values, spurious_correlation=0.5)"
   ]
  },
  {
   "cell_type": "code",
   "execution_count": 85,
   "id": "efbeedf7",
   "metadata": {},
   "outputs": [
    {
     "data": {
      "text/plain": [
       "[0.48399999737739563,\n",
       " 0.48399999737739563,\n",
       " 0.48399999737739563,\n",
       " 0.48399999737739563,\n",
       " 0.5817999839782715,\n",
       " 0.9979000091552734,\n",
       " 0.9979000091552734,\n",
       " 0.9979000091552734,\n",
       " 0.9979000091552734]"
      ]
     },
     "execution_count": 85,
     "metadata": {},
     "output_type": "execute_result"
    }
   ],
   "source": [
    "accuracies_on_test(model3, test_spurious_values, spurious_correlation=1)"
   ]
  },
  {
   "cell_type": "code",
   "execution_count": 86,
   "id": "3b080f34",
   "metadata": {},
   "outputs": [
    {
     "data": {
      "text/plain": [
       "[0.583899974822998,\n",
       " 0.583899974822998,\n",
       " 0.583899974822998,\n",
       " 0.583899974822998,\n",
       " 0.5817999839782715,\n",
       " 0.09780000150203705,\n",
       " 0.09780000150203705,\n",
       " 0.09780000150203705,\n",
       " 0.09780000150203705]"
      ]
     },
     "execution_count": 86,
     "metadata": {},
     "output_type": "execute_result"
    }
   ],
   "source": [
    "accuracies_on_test(model3, test_spurious_values, spurious_correlation=0)"
   ]
  },
  {
   "cell_type": "markdown",
   "id": "5ac00b60",
   "metadata": {},
   "source": [
    "# With gradient clipping"
   ]
  },
  {
   "cell_type": "code",
   "execution_count": 89,
   "id": "7ce11bd2",
   "metadata": {
    "scrolled": true
   },
   "outputs": [
    {
     "name": "stderr",
     "output_type": "stream",
     "text": [
      "100%|██████████| 1000/1000 [3:47:49<00:00, 13.67s/it] "
     ]
    },
    {
     "name": "stdout",
     "output_type": "stream",
     "text": [
      "Save model to 'models/experimental_clip_0.25_0.pt'\n"
     ]
    },
    {
     "name": "stderr",
     "output_type": "stream",
     "text": [
      "\n"
     ]
    }
   ],
   "source": [
    "model = train_model_on(experimental, epochs=epochs, clip=0.25, name='experimental_clip_0.25_%d.pt' % 0)"
   ]
  },
  {
   "cell_type": "code",
   "execution_count": 90,
   "id": "d1c57bb0",
   "metadata": {},
   "outputs": [
    {
     "data": {
      "text/plain": [
       "[0.7002999782562256,\n",
       " 0.699999988079071,\n",
       " 0.6984000205993652,\n",
       " 0.6890000104904175,\n",
       " 0.9060999751091003,\n",
       " 0.7127000093460083,\n",
       " 0.711899995803833,\n",
       " 0.7099000215530396,\n",
       " 0.7142999768257141]"
      ]
     },
     "execution_count": 90,
     "metadata": {},
     "output_type": "execute_result"
    }
   ],
   "source": [
    "accuracies_on_test(model, test_spurious_values, spurious_correlation=0.5)"
   ]
  },
  {
   "cell_type": "code",
   "execution_count": 91,
   "id": "99b1d598",
   "metadata": {},
   "outputs": [
    {
     "data": {
      "text/plain": [
       "[0.48249998688697815,\n",
       " 0.48249998688697815,\n",
       " 0.48249998688697815,\n",
       " 0.48249998688697815,\n",
       " 0.9060999751091003,\n",
       " 0.996399998664856,\n",
       " 0.996399998664856,\n",
       " 0.996399998664856,\n",
       " 0.996399998664856]"
      ]
     },
     "execution_count": 91,
     "metadata": {},
     "output_type": "execute_result"
    }
   ],
   "source": [
    "accuracies_on_test(model, test_spurious_values, spurious_correlation=1.0)"
   ]
  },
  {
   "cell_type": "code",
   "execution_count": 92,
   "id": "31463de1",
   "metadata": {},
   "outputs": [
    {
     "data": {
      "text/plain": [
       "[0.9096999764442444,\n",
       " 0.9096999764442444,\n",
       " 0.9096999764442444,\n",
       " 0.9096999764442444,\n",
       " 0.9060999751091003,\n",
       " 0.4235999882221222,\n",
       " 0.4235999882221222,\n",
       " 0.4235999882221222,\n",
       " 0.4235999882221222]"
      ]
     },
     "execution_count": 92,
     "metadata": {},
     "output_type": "execute_result"
    }
   ],
   "source": [
    "accuracies_on_test(model, test_spurious_values, spurious_correlation=0)"
   ]
  },
  {
   "cell_type": "code",
   "execution_count": 93,
   "id": "4454cadf",
   "metadata": {},
   "outputs": [
    {
     "name": "stderr",
     "output_type": "stream",
     "text": [
      "100%|██████████| 1000/1000 [3:51:49<00:00, 13.91s/it] "
     ]
    },
    {
     "name": "stdout",
     "output_type": "stream",
     "text": [
      "Save model to 'models/experimental_clip_0.1_0.pt'\n"
     ]
    },
    {
     "name": "stderr",
     "output_type": "stream",
     "text": [
      "\n"
     ]
    }
   ],
   "source": [
    "model2 = train_model_on(experimental, epochs=epochs, clip=0.1, name='experimental_clip_0.1_%d.pt' % 0)"
   ]
  },
  {
   "cell_type": "code",
   "execution_count": 94,
   "id": "638b7e12",
   "metadata": {},
   "outputs": [
    {
     "data": {
      "text/plain": [
       "[0.7056999802589417,\n",
       " 0.7027000188827515,\n",
       " 0.7038999795913696,\n",
       " 0.7073000073432922,\n",
       " 0.9161999821662903,\n",
       " 0.7142999768257141,\n",
       " 0.7142000198364258,\n",
       " 0.714900016784668,\n",
       " 0.7211999893188477]"
      ]
     },
     "execution_count": 94,
     "metadata": {},
     "output_type": "execute_result"
    }
   ],
   "source": [
    "accuracies_on_test(model2, test_spurious_values, spurious_correlation=0.5)"
   ]
  },
  {
   "cell_type": "code",
   "execution_count": 95,
   "id": "72abd353",
   "metadata": {},
   "outputs": [
    {
     "data": {
      "text/plain": [
       "[0.48019999265670776,\n",
       " 0.48019999265670776,\n",
       " 0.48019999265670776,\n",
       " 0.48019999265670776,\n",
       " 0.9161999821662903,\n",
       " 0.9940999746322632,\n",
       " 0.9940999746322632,\n",
       " 0.9940999746322632,\n",
       " 0.9940999746322632]"
      ]
     },
     "execution_count": 95,
     "metadata": {},
     "output_type": "execute_result"
    }
   ],
   "source": [
    "accuracies_on_test(model2, test_spurious_values, spurious_correlation=1.0)"
   ]
  },
  {
   "cell_type": "code",
   "execution_count": 96,
   "id": "062795a5",
   "metadata": {},
   "outputs": [
    {
     "data": {
      "text/plain": [
       "[0.9221000075340271,\n",
       " 0.9221000075340271,\n",
       " 0.9221000075340271,\n",
       " 0.9221000075340271,\n",
       " 0.9161999821662903,\n",
       " 0.4359999895095825,\n",
       " 0.4359999895095825,\n",
       " 0.4359999895095825,\n",
       " 0.4359999895095825]"
      ]
     },
     "execution_count": 96,
     "metadata": {},
     "output_type": "execute_result"
    }
   ],
   "source": [
    "accuracies_on_test(model2, test_spurious_values, spurious_correlation=0)"
   ]
  },
  {
   "cell_type": "code",
   "execution_count": 101,
   "id": "41d65e03",
   "metadata": {},
   "outputs": [
    {
     "name": "stderr",
     "output_type": "stream",
     "text": [
      "100%|██████████| 1000/1000 [4:13:42<00:00, 15.22s/it]   "
     ]
    },
    {
     "name": "stdout",
     "output_type": "stream",
     "text": [
      "Save model to 'models/experimental_clip_0.01_0.pt'\n"
     ]
    },
    {
     "name": "stderr",
     "output_type": "stream",
     "text": [
      "\n"
     ]
    }
   ],
   "source": [
    "model3 = train_model_on(experimental, epochs=epochs, clip=0.01, name='experimental_clip_0.01_%d.pt' % 0)"
   ]
  },
  {
   "cell_type": "code",
   "execution_count": 102,
   "id": "05cc8372",
   "metadata": {},
   "outputs": [
    {
     "data": {
      "text/plain": [
       "[0.586899995803833,\n",
       " 0.5853000283241272,\n",
       " 0.5878000259399414,\n",
       " 0.5878000259399414,\n",
       " 0.6922000050544739,\n",
       " 0.6110000014305115,\n",
       " 0.6121000051498413,\n",
       " 0.5946000218391418,\n",
       " 0.5992000102996826]"
      ]
     },
     "execution_count": 102,
     "metadata": {},
     "output_type": "execute_result"
    }
   ],
   "source": [
    "accuracies_on_test(model3, test_spurious_values, spurious_correlation=0.5)"
   ]
  },
  {
   "cell_type": "code",
   "execution_count": 103,
   "id": "2a256ab9",
   "metadata": {},
   "outputs": [
    {
     "data": {
      "text/plain": [
       "[0.4715000092983246,\n",
       " 0.4715000092983246,\n",
       " 0.4715000092983246,\n",
       " 0.4715000092983246,\n",
       " 0.6922000050544739,\n",
       " 0.9854000210762024,\n",
       " 0.9854000210762024,\n",
       " 0.9854000210762024,\n",
       " 0.9854000210762024]"
      ]
     },
     "execution_count": 103,
     "metadata": {},
     "output_type": "execute_result"
    }
   ],
   "source": [
    "accuracies_on_test(model3, test_spurious_values, spurious_correlation=1.0)"
   ]
  },
  {
   "cell_type": "code",
   "execution_count": 104,
   "id": "0b8ea72d",
   "metadata": {},
   "outputs": [
    {
     "data": {
      "text/plain": [
       "[0.7067999839782715,\n",
       " 0.7067999839782715,\n",
       " 0.7067999839782715,\n",
       " 0.7067999839782715,\n",
       " 0.6922000050544739,\n",
       " 0.2206999957561493,\n",
       " 0.2206999957561493,\n",
       " 0.2206999957561493,\n",
       " 0.2206999957561493]"
      ]
     },
     "execution_count": 104,
     "metadata": {},
     "output_type": "execute_result"
    }
   ],
   "source": [
    "accuracies_on_test(model3, test_spurious_values, spurious_correlation=0.0)"
   ]
  },
  {
   "cell_type": "markdown",
   "id": "54be8796",
   "metadata": {},
   "source": [
    "# Stochastic gradient descent"
   ]
  },
  {
   "cell_type": "code",
   "execution_count": 108,
   "id": "e7cd1397",
   "metadata": {},
   "outputs": [],
   "source": [
    "def fit_stochastic(model, optim, criterion, train_set, batch_size=64, clip=None, epochs=50):\n",
    "    tensor_x = torch.Tensor(train_set['images'])\n",
    "    tensor_y = torch.Tensor(train_set['labels'])\n",
    "    my_dataset = TensorDataset(tensor_x, tensor_y)\n",
    "    my_dataloader = DataLoader(my_dataset, batch_size=batch_size, shuffle=True, num_workers=8)\n",
    "    \n",
    "    model.train()\n",
    "\n",
    "    for i in tqdm(range(epochs)):\n",
    "        for (x,y) in my_dataloader:\n",
    "            optim.zero_grad()\n",
    "            logits = model(x)\n",
    "            loss = criterion(logits, y)\n",
    "            loss.backward()\n",
    "            if clip is not None:\n",
    "                torch.nn.utils.clip_grad_norm_(model.parameters(), max_norm=clip)\n",
    "            optim.step()\n",
    "            \n",
    "def train_model_on_stochastic(data, epochs, weight_decay=0, batch_size=64, clip=None, name='model.pt'):\n",
    "    criterion = torch.nn.BCEWithLogitsLoss()\n",
    "    model = MnistNet(n_channels=2)\n",
    "    optim = torch.optim.SGD(params=model.parameters(), lr=lr, weight_decay=weight_decay)\n",
    "    fit_stochastic(model, optim, criterion, data, clip=clip, epochs=epochs)\n",
    "    # save model just in case\n",
    "    print(\"Save model to 'models/%s'\" % name)\n",
    "    torch.save(model.state_dict(), 'models/%s' % name)\n",
    "    return model"
   ]
  },
  {
   "cell_type": "code",
   "execution_count": null,
   "id": "eea4bd82",
   "metadata": {},
   "outputs": [
    {
     "name": "stderr",
     "output_type": "stream",
     "text": [
      " 24%|██▍       | 238/1000 [2:09:29<7:10:12, 33.87s/it]"
     ]
    }
   ],
   "source": [
    "model = train_model_on_stochastic(experimental, epochs=epochs, batch_size=64, name='experimental_sto_64_%d.pt' % 0)"
   ]
  },
  {
   "cell_type": "code",
   "execution_count": null,
   "id": "c2295c44",
   "metadata": {},
   "outputs": [],
   "source": []
  }
 ],
 "metadata": {
  "kernelspec": {
   "display_name": "Python 3 (ipykernel)",
   "language": "python",
   "name": "python3"
  },
  "language_info": {
   "codemirror_mode": {
    "name": "ipython",
    "version": 3
   },
   "file_extension": ".py",
   "mimetype": "text/x-python",
   "name": "python",
   "nbconvert_exporter": "python",
   "pygments_lexer": "ipython3",
   "version": "3.8.5"
  }
 },
 "nbformat": 4,
 "nbformat_minor": 5
}
