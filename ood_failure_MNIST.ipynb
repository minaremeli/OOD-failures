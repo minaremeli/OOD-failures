{
 "cells": [
  {
   "cell_type": "code",
   "execution_count": 1,
   "id": "02dd8f3d",
   "metadata": {},
   "outputs": [],
   "source": [
    "from data_utils import load_binary_MNIST\n",
    "from models import MnistNet\n",
    "import torch\n",
    "from tqdm import tqdm\n",
    "import numpy as np\n",
    "\n",
    "import matplotlib as mpl\n",
    "import matplotlib.pyplot as plt\n",
    "\n",
    "colors = ['black','#377eb8', '#ff7f00', '#4daf4a',\n",
    "              '#984ea3', '#a65628', '#f781bf',\n",
    "              '#999999', '#e41a1c', '#dede00']\n",
    "markers = [ 'h', '*', '<', 'o', 's', 'v', 'D' ]"
   ]
  },
  {
   "cell_type": "markdown",
   "id": "0f30f44a",
   "metadata": {},
   "source": [
    "# On linear classifier"
   ]
  },
  {
   "cell_type": "code",
   "execution_count": 2,
   "id": "bc3adc96",
   "metadata": {},
   "outputs": [],
   "source": [
    "lr = 0.1\n",
    "epochs = 250 # instead of the original 50"
   ]
  },
  {
   "cell_type": "code",
   "execution_count": 3,
   "id": "58cd2091",
   "metadata": {},
   "outputs": [],
   "source": [
    "def mean_accuracy(logits, y):\n",
    "    preds = (logits > 0.).float()\n",
    "    return ((preds - y).abs() < 1e-2).float().mean().item()"
   ]
  },
  {
   "cell_type": "code",
   "execution_count": 4,
   "id": "a5315839",
   "metadata": {},
   "outputs": [],
   "source": [
    "def fit(model, optim, criterion, train_set, epochs=50):\n",
    "    model.train()\n",
    "\n",
    "    for i in tqdm(range(epochs)):\n",
    "        optim.zero_grad()\n",
    "        logits = model(train_set['images'])\n",
    "        loss = criterion(logits, train_set['labels'])\n",
    "        loss.backward()\n",
    "        optim.step()\n",
    "\n",
    "def eval(model, dataset):\n",
    "    model.eval()\n",
    "    logits = model(dataset['images'])\n",
    "    acc = mean_accuracy(logits, dataset['labels'])\n",
    "    return acc"
   ]
  },
  {
   "cell_type": "code",
   "execution_count": 5,
   "id": "663b01e5",
   "metadata": {},
   "outputs": [
    {
     "name": "stderr",
     "output_type": "stream",
     "text": [
      "100%|██████████| 250/250 [11:12<00:00,  2.69s/it]\n",
      "100%|██████████| 250/250 [11:16<00:00,  2.71s/it]\n",
      "100%|██████████| 250/250 [11:30<00:00,  2.76s/it]\n",
      "100%|██████████| 250/250 [11:42<00:00,  2.81s/it]\n",
      "100%|██████████| 250/250 [11:33<00:00,  2.77s/it]\n",
      "100%|██████████| 250/250 [11:39<00:00,  2.80s/it]\n",
      "100%|██████████| 250/250 [11:41<00:00,  2.80s/it]\n",
      "100%|██████████| 250/250 [11:51<00:00,  2.84s/it]\n",
      "100%|██████████| 250/250 [11:34<00:00,  2.78s/it]\n",
      "100%|██████████| 250/250 [11:02<00:00,  2.65s/it]\n",
      "100%|██████████| 250/250 [10:53<00:00,  2.61s/it]\n",
      "100%|██████████| 250/250 [10:46<00:00,  2.59s/it]\n",
      "100%|██████████| 250/250 [10:45<00:00,  2.58s/it]\n",
      "100%|██████████| 250/250 [10:44<00:00,  2.58s/it]\n",
      "100%|██████████| 250/250 [10:52<00:00,  2.61s/it]\n",
      "100%|██████████| 250/250 [11:17<00:00,  2.71s/it]\n",
      "100%|██████████| 250/250 [11:15<00:00,  2.70s/it]\n",
      "100%|██████████| 250/250 [11:14<00:00,  2.70s/it]\n",
      "100%|██████████| 250/250 [11:13<00:00,  2.70s/it]\n",
      "100%|██████████| 250/250 [11:14<00:00,  2.70s/it]\n",
      "100%|██████████| 250/250 [11:15<00:00,  2.70s/it]\n",
      "100%|██████████| 250/250 [11:14<00:00,  2.70s/it]\n",
      "100%|██████████| 250/250 [11:14<00:00,  2.70s/it]\n",
      "100%|██████████| 250/250 [11:14<00:00,  2.70s/it]\n",
      "100%|██████████| 250/250 [11:14<00:00,  2.70s/it]\n",
      "100%|██████████| 250/250 [11:15<00:00,  2.70s/it]\n",
      "100%|██████████| 250/250 [11:14<00:00,  2.70s/it]\n",
      "100%|██████████| 250/250 [11:14<00:00,  2.70s/it]\n",
      "100%|██████████| 250/250 [11:14<00:00,  2.70s/it]\n",
      "100%|██████████| 250/250 [11:14<00:00,  2.70s/it]\n"
     ]
    }
   ],
   "source": [
    "sps = [0.5, 0.625, 0.75, 0.825, 0.95, 1.0]\n",
    "train_accs = []\n",
    "test_accs = []\n",
    "\n",
    "criterion = torch.nn.BCEWithLogitsLoss()\n",
    "\n",
    "for sp in sps:\n",
    "    train_accs += [[]]\n",
    "    test_accs += [[]]\n",
    "    train_set, test_set = load_binary_MNIST(spurious_correlation=sp)\n",
    "    for k in range(5):\n",
    "        model = MnistNet()\n",
    "        optim = torch.optim.SGD(params=model.parameters(), lr=lr)\n",
    "        fit(model, optim, criterion, train_set, epochs=epochs)\n",
    "        train_accs[-1] += [eval(model, train_set)]\n",
    "        test_accs[-1] += [eval(model, test_set)]"
   ]
  },
  {
   "cell_type": "code",
   "execution_count": 38,
   "id": "f045e06d",
   "metadata": {},
   "outputs": [],
   "source": [
    "y_train = [np.mean(y) for y in train_accs]\n",
    "y_train_std = [np.std(y) for y in train_accs]\n",
    "y_test = [np.mean(y) for y in test_accs]\n",
    "y_test_std = [np.std(y) for y in test_accs]"
   ]
  },
  {
   "cell_type": "code",
   "execution_count": 12,
   "id": "c448a82a",
   "metadata": {},
   "outputs": [
    {
     "data": {
      "text/plain": [
       "<Figure size 360x360 with 0 Axes>"
      ]
     },
     "metadata": {},
     "output_type": "display_data"
    },
    {
     "data": {
      "image/png": "[encoded data removed]",
      "text/plain": [
       "<Figure size 432x288 with 1 Axes>"
      ]
     },
     "metadata": {
      "needs_background": "light"
     },
     "output_type": "display_data"
    }
   ],
   "source": [
    "mpl.rc('xtick', labelsize=18)\n",
    "mpl.rc('ytick', labelsize=18)\n",
    "mpl.rcParams['font.family'] ='monospace'\n",
    "plt.figure(figsize=(5,5))\n",
    "fig, ax = plt.subplots()\n",
    "ax.set_xlabel('Spurious correlation',fontsize=24)\n",
    "ax.set_ylabel(r'Accuracy',fontsize=24)\n",
    "ax.errorbar(x=sps, y=y_train, yerr=y_train_std, marker=markers[0], color=colors[0], \n",
    "            capsize=5,markersize=15, label='D_train')\n",
    "ax.errorbar(x=sps, y=y_test, yerr=y_test_std, marker=markers[2], color=colors[2], \n",
    "            capsize=5,markersize=15, label='D_test')\n",
    "ax.grid()\n",
    "plt.tight_layout()\n",
    "plt.xticks([0.5, 0.6, 0.7, 0.8, 0.9, 1.0], ['0.5', '0.6', '0.7', '0.8', '0.9', '1.0'])\n",
    "plt.legend()\n",
    "plt.savefig(f'plots/mnist_ood_failure.pdf')\n"
   ]
  },
  {
   "cell_type": "code",
   "execution_count": 16,
   "id": "b118ef10",
   "metadata": {},
   "outputs": [],
   "source": [
    "np.save('results/mnist_ood_failure_train.npy', np.array(train_accs))\n",
    "np.save('results/mnist_ood_failure_test.npy', np.array(test_accs))"
   ]
  },
  {
   "cell_type": "markdown",
   "id": "78469ef3",
   "metadata": {},
   "source": [
    "# On max-margin classifier"
   ]
  },
  {
   "cell_type": "code",
   "execution_count": 40,
   "id": "d9f75e6f",
   "metadata": {},
   "outputs": [],
   "source": [
    "from max_margin import fit_max_margin, evaluate_max_margin\n",
    "import torch.nn.functional as F\n",
    "import torch.nn as nn\n",
    "from tqdm import tqdm"
   ]
  },
  {
   "cell_type": "code",
   "execution_count": 48,
   "id": "7382538d",
   "metadata": {},
   "outputs": [],
   "source": [
    "n_train = 6400\n",
    "n_test = 3200"
   ]
  },
  {
   "cell_type": "code",
   "execution_count": 49,
   "id": "6971db7e",
   "metadata": {},
   "outputs": [
    {
     "name": "stderr",
     "output_type": "stream",
     "text": [
      "\r",
      "  0%|          | 0/6 [00:00<?, ?it/s]"
     ]
    },
    {
     "name": "stdout",
     "output_type": "stream",
     "text": [
      "torch.Size([3200])\n",
      "torch.Size([3200])\n",
      "torch.Size([6400])\n",
      "torch.Size([6400])\n",
      "torch.Size([3200])\n",
      "torch.Size([3200])\n",
      "torch.Size([6400])\n",
      "torch.Size([6400])\n",
      "torch.Size([3200])\n",
      "torch.Size([3200])\n",
      "torch.Size([6400])\n",
      "torch.Size([6400])\n",
      "torch.Size([3200])\n",
      "torch.Size([3200])\n",
      "torch.Size([6400])\n",
      "torch.Size([6400])\n",
      "torch.Size([3200])\n",
      "torch.Size([3200])\n"
     ]
    },
    {
     "name": "stderr",
     "output_type": "stream",
     "text": [
      "\r",
      " 17%|█▋        | 1/6 [1:23:49<6:59:09, 5029.82s/it]"
     ]
    },
    {
     "name": "stdout",
     "output_type": "stream",
     "text": [
      "torch.Size([6400])\n",
      "torch.Size([6400])\n",
      "torch.Size([3200])\n",
      "torch.Size([3200])\n",
      "torch.Size([6400])\n",
      "torch.Size([6400])\n",
      "torch.Size([3200])\n",
      "torch.Size([3200])\n",
      "torch.Size([6400])\n",
      "torch.Size([6400])\n",
      "torch.Size([3200])\n",
      "torch.Size([3200])\n",
      "torch.Size([6400])\n",
      "torch.Size([6400])\n",
      "torch.Size([3200])\n",
      "torch.Size([3200])\n",
      "torch.Size([6400])\n",
      "torch.Size([6400])\n",
      "torch.Size([3200])\n",
      "torch.Size([3200])\n"
     ]
    },
    {
     "name": "stderr",
     "output_type": "stream",
     "text": [
      "\r",
      " 33%|███▎      | 2/6 [2:46:55<5:33:35, 5003.90s/it]"
     ]
    },
    {
     "name": "stdout",
     "output_type": "stream",
     "text": [
      "torch.Size([6400])\n",
      "torch.Size([6400])\n",
      "torch.Size([3200])\n",
      "torch.Size([3200])\n",
      "torch.Size([6400])\n",
      "torch.Size([6400])\n",
      "torch.Size([3200])\n",
      "torch.Size([3200])\n",
      "torch.Size([6400])\n",
      "torch.Size([6400])\n",
      "torch.Size([3200])\n",
      "torch.Size([3200])\n",
      "torch.Size([6400])\n",
      "torch.Size([6400])\n",
      "torch.Size([3200])\n",
      "torch.Size([3200])\n",
      "torch.Size([6400])\n",
      "torch.Size([6400])\n",
      "torch.Size([3200])\n",
      "torch.Size([3200])\n"
     ]
    },
    {
     "name": "stderr",
     "output_type": "stream",
     "text": [
      "\r",
      " 50%|█████     | 3/6 [4:05:33<4:03:40, 4873.39s/it]"
     ]
    },
    {
     "name": "stdout",
     "output_type": "stream",
     "text": [
      "torch.Size([6400])\n",
      "torch.Size([6400])\n",
      "torch.Size([3200])\n",
      "torch.Size([3200])\n",
      "torch.Size([6400])\n",
      "torch.Size([6400])\n",
      "torch.Size([3200])\n",
      "torch.Size([3200])\n",
      "torch.Size([6400])\n",
      "torch.Size([6400])\n",
      "torch.Size([3200])\n",
      "torch.Size([3200])\n",
      "torch.Size([6400])\n",
      "torch.Size([6400])\n",
      "torch.Size([3200])\n",
      "torch.Size([3200])\n",
      "torch.Size([6400])\n",
      "torch.Size([6400])\n",
      "torch.Size([3200])\n",
      "torch.Size([3200])\n"
     ]
    },
    {
     "name": "stderr",
     "output_type": "stream",
     "text": [
      "\r",
      " 67%|██████▋   | 4/6 [5:35:02<2:48:58, 5069.09s/it]"
     ]
    },
    {
     "name": "stdout",
     "output_type": "stream",
     "text": [
      "torch.Size([6400])\n",
      "torch.Size([6400])\n",
      "torch.Size([3200])\n",
      "torch.Size([3200])\n",
      "torch.Size([6400])\n",
      "torch.Size([6400])\n",
      "torch.Size([3200])\n",
      "torch.Size([3200])\n",
      "torch.Size([6400])\n",
      "torch.Size([6400])\n",
      "torch.Size([3200])\n",
      "torch.Size([3200])\n",
      "torch.Size([6400])\n",
      "torch.Size([6400])\n",
      "torch.Size([3200])\n",
      "torch.Size([3200])\n",
      "torch.Size([6400])\n",
      "torch.Size([6400])\n",
      "torch.Size([3200])\n",
      "torch.Size([3200])\n"
     ]
    },
    {
     "name": "stderr",
     "output_type": "stream",
     "text": [
      "\r",
      " 83%|████████▎ | 5/6 [7:04:31<1:26:17, 5177.26s/it]"
     ]
    },
    {
     "name": "stdout",
     "output_type": "stream",
     "text": [
      "torch.Size([6400])\n",
      "torch.Size([6400])\n",
      "torch.Size([3200])\n",
      "torch.Size([3200])\n",
      "torch.Size([6400])\n",
      "torch.Size([6400])\n",
      "torch.Size([3200])\n",
      "torch.Size([3200])\n",
      "torch.Size([6400])\n",
      "torch.Size([6400])\n",
      "torch.Size([3200])\n",
      "torch.Size([3200])\n",
      "torch.Size([6400])\n",
      "torch.Size([6400])\n",
      "torch.Size([3200])\n",
      "torch.Size([3200])\n",
      "torch.Size([6400])\n",
      "torch.Size([6400])\n",
      "torch.Size([3200])\n",
      "torch.Size([3200])\n"
     ]
    },
    {
     "name": "stderr",
     "output_type": "stream",
     "text": [
      "100%|██████████| 6/6 [10:55:33<00:00, 6555.53s/it] "
     ]
    },
    {
     "name": "stdout",
     "output_type": "stream",
     "text": [
      "torch.Size([6400])\n",
      "torch.Size([6400])\n",
      "5\r"
     ]
    },
    {
     "name": "stderr",
     "output_type": "stream",
     "text": [
      "\n"
     ]
    }
   ],
   "source": [
    "sps = [0.5, 0.625, 0.75, 0.825, 0.95, 1.0]\n",
    "mm_test_accs = []\n",
    "mm_train_accs = []\n",
    "\n",
    "for sp in tqdm(sps):\n",
    "    mm_test_accs += [[]]\n",
    "    mm_train_accs += [[]]\n",
    "    i = 0\n",
    "    mm_weights, mm_bias = None, None\n",
    "    while(i < 5):\n",
    "        train_set, test_set = load_binary_MNIST(spurious_correlation=sp)\n",
    "        ch, w, h = train_set['images'][0].shape\n",
    "        indices = np.random.choice(np.arange(train_set['labels'].shape[0]), n_train, replace=False)\n",
    "\n",
    "        with torch.no_grad():\n",
    "            W = torch.randn((50000, ch*w*h))\n",
    "            x, y = train_set['images'][indices], train_set['labels'][indices]\n",
    "            x = x.view(len(indices), -1)\n",
    "            x = F.relu(x @ W.T)\n",
    "\n",
    "        mm_weights, mm_bias = fit_max_margin(x, y, verbose=False)\n",
    "\n",
    "        indices = np.random.choice(np.arange(test_set['labels'].shape[0]), n_test, replace=False)\n",
    "        x_test, y_test = test_set['images'][indices], test_set['labels'][indices]\n",
    "        x_test = x_test.view(len(indices), -1)\n",
    "        with torch.no_grad():\n",
    "            x_test = F.relu(x_test @ W.T)\n",
    "\n",
    "        test_acc = evaluate_max_margin(x_test, y_test, mm_weights, mm_bias).item()\n",
    "        train_acc = evaluate_max_margin(x, y, mm_weights, mm_bias).item()\n",
    "        i += 1\n",
    "        print(i, end='\\r')\n",
    "        mm_test_accs[-1] += [test_acc]\n",
    "        mm_train_accs[-1] += [train_acc]"
   ]
  },
  {
   "cell_type": "code",
   "execution_count": 50,
   "id": "42f7aeda",
   "metadata": {},
   "outputs": [],
   "source": [
    "mm_y_train = [np.mean(y) for y in mm_train_accs]\n",
    "mm_y_train_std = [np.std(y) for y in mm_train_accs]\n",
    "mm_y_test = [np.mean(y) for y in mm_test_accs]\n",
    "mm_y_test_std = [np.std(y) for y in mm_test_accs]"
   ]
  },
  {
   "cell_type": "code",
   "execution_count": 51,
   "id": "ef8cffcf",
   "metadata": {},
   "outputs": [
    {
     "data": {
      "text/plain": [
       "<Figure size 360x360 with 0 Axes>"
      ]
     },
     "metadata": {},
     "output_type": "display_data"
    },
    {
     "data": {
      "image/png": "[encoded data removed]",
      "text/plain": [
       "<Figure size 432x288 with 1 Axes>"
      ]
     },
     "metadata": {
      "needs_background": "light"
     },
     "output_type": "display_data"
    }
   ],
   "source": [
    "mpl.rc('xtick', labelsize=18)\n",
    "mpl.rc('ytick', labelsize=18)\n",
    "mpl.rcParams['font.family'] ='monospace'\n",
    "plt.figure(figsize=(5,5))\n",
    "fig, ax = plt.subplots()\n",
    "ax.set_xlabel('Spurious correlation',fontsize=24)\n",
    "ax.set_ylabel(r'Accuracy',fontsize=24)\n",
    "ax.errorbar(x=sps, y=mm_y_train, yerr=mm_y_train_std, marker=markers[0], color=colors[0], \n",
    "            capsize=5,markersize=15, label='D_train')\n",
    "ax.errorbar(x=sps, y=mm_y_test, yerr=mm_y_test_std, marker=markers[2], color=colors[2], \n",
    "            capsize=5,markersize=15, label='D_test')\n",
    "ax.grid()\n",
    "plt.tight_layout()\n",
    "plt.xticks([0.5, 0.6, 0.7, 0.8, 0.9, 1.0], ['0.5', '0.6', '0.7', '0.8', '0.9', '1.0'])\n",
    "plt.legend()\n",
    "plt.savefig(f'plots/mnist_mm_ood_failure.pdf')"
   ]
  },
  {
   "cell_type": "code",
   "execution_count": 52,
   "id": "bbae13db",
   "metadata": {},
   "outputs": [],
   "source": [
    "np.save('results/mnist_mm_ood_failure_train.npy', np.array(mm_train_accs))\n",
    "np.save('results/mnist_mm_ood_failure_test.npy', np.array(mm_test_accs))"
   ]
  },
  {
   "cell_type": "code",
   "execution_count": null,
   "id": "8ff4e6bb",
   "metadata": {},
   "outputs": [],
   "source": []
  }
 ],
 "metadata": {
  "kernelspec": {
   "display_name": "Python 3 (ipykernel)",
   "language": "python",
   "name": "python3"
  },
  "language_info": {
   "codemirror_mode": {
    "name": "ipython",
    "version": 3
   },
   "file_extension": ".py",
   "mimetype": "text/x-python",
   "name": "python",
   "nbconvert_exporter": "python",
   "pygments_lexer": "ipython3",
   "version": "3.8.5"
  }
 },
 "nbformat": 4,
 "nbformat_minor": 5
}
